{
 "cells": [
  {
   "attachments": {},
   "cell_type": "markdown",
   "metadata": {},
   "source": [
    "<h1>Class Exercise 2 (Toy Data)</h1>"
   ]
  },
  {
   "cell_type": "code",
   "execution_count": 5,
   "metadata": {},
   "outputs": [],
   "source": [
    "# import the required libraries to run the code\n",
    "import random\n",
    "import matplotlib.pyplot as plt\n",
    "\n",
    "# initiate class\n",
    "class ToyData:\n",
    "    \"\"\"Storing randomly generated floating numbers between 0 and 1 and into _data _size number of times\"\"\" \n",
    "    def __init__(self, size):\n",
    "        \"\"\"\n",
    "        - Create a new ToyData instance.\n",
    "        - Data will be generated with the generate function defined below.\n",
    "        \n",
    "        size    amount of datapoints generated\n",
    "        \"\"\"\n",
    "\n",
    "        # add conditional statements to ensure the input is correct\n",
    "        if type(size) != int:\n",
    "            print(\"Please enter an integer\")\n",
    "        elif size <= 0:\n",
    "            print(\"You must enter a positive integer\")\n",
    "        else:\n",
    "            self._size = size\n",
    "\n",
    "        # data is initially an empty list, but will be populated by the generate() function\n",
    "        self._data = []\n",
    "\n",
    "    def generate(self):\n",
    "        \"\"\"generate _size number of random numbers between 0 and 1\"\"\"\n",
    "\n",
    "        for i in range(self._size):\n",
    "            rand = random.random()\n",
    "            self._data.append(rand)\n",
    "        print(f\"{self._size} numbers generated!\")\n",
    "\n",
    "    def display(self):\n",
    "        \"\"\"Display a histogram of the distribution of numbers generated in self._data\"\"\"\n",
    "\n",
    "        plt.hist(self._data)\n",
    "        plt.show()\n",
    "\n"
   ]
  },
  {
   "cell_type": "code",
   "execution_count": 6,
   "metadata": {},
   "outputs": [
    {
     "name": "stdout",
     "output_type": "stream",
     "text": [
      "100 numbers generated!\n",
      "1000 numbers generated!\n",
      "10000 numbers generated!\n"
     ]
    },
    {
     "data": {
      "image/png": "[encoded data removed]",
      "text/plain": [
       "<Figure size 432x288 with 1 Axes>"
      ]
     },
     "metadata": {
      "needs_background": "light"
     },
     "output_type": "display_data"
    },
    {
     "data": {
      "image/png": "[encoded data removed]",
      "text/plain": [
       "<Figure size 432x288 with 1 Axes>"
      ]
     },
     "metadata": {
      "needs_background": "light"
     },
     "output_type": "display_data"
    },
    {
     "data": {
      "image/png": "[encoded data removed]",
      "text/plain": [
       "<Figure size 432x288 with 1 Axes>"
      ]
     },
     "metadata": {
      "needs_background": "light"
     },
     "output_type": "display_data"
    },
    {
     "name": "stdout",
     "output_type": "stream",
     "text": [
      "You must enter a positive integer\n",
      "Please enter an integer\n",
      "Please enter an integer\n"
     ]
    }
   ],
   "source": [
    "if __name__ == '__main__':\n",
    "\n",
    "    # create an empty list\n",
    "    toy = []\n",
    "    # append three instances of toy data to the list\n",
    "    toy.append(ToyData(100))\n",
    "    toy.append(ToyData(1000))\n",
    "    toy.append(ToyData(10000))\n",
    "\n",
    "    # generate \"_size\" number of float values between 0 and 1 for all instances of ToyData\n",
    "    for i in range(len(toy)):\n",
    "        toy[i].generate()\n",
    "    \n",
    "    # generate histogram for each generated list of float values\n",
    "    for i in range(len(toy)):\n",
    "        toy[i].display()\n",
    "    \n",
    "    # testing for possible errors\n",
    "    toy = ToyData(-10) # if the input for size is negative\n",
    "    toy = ToyData(10.5) # if the input for size is non integer\n",
    "    toy = ToyData(\"test\") # if the input for size is string"
   ]
  }
 ],
 "metadata": {
  "kernelspec": {
   "display_name": "ANLY501",
   "language": "python",
   "name": "python3"
  },
  "language_info": {
   "codemirror_mode": {
    "name": "ipython",
    "version": 3
   },
   "file_extension": ".py",
   "mimetype": "text/x-python",
   "name": "python",
   "nbconvert_exporter": "python",
   "pygments_lexer": "ipython3",
   "version": "3.10.4 (main, Mar 31 2022, 03:38:35) [Clang 12.0.0 ]"
  },
  "orig_nbformat": 4,
  "vscode": {
   "interpreter": {
    "hash": "6c72976fb237423a2a1d3151ac569995244a4a767dd0452f9a8ae3f982e3763a"
   }
  }
 },
 "nbformat": 4,
 "nbformat_minor": 2
}
