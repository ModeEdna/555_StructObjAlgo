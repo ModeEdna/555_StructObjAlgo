{
 "cells": [
  {
   "attachments": {},
   "cell_type": "markdown",
   "metadata": {},
   "source": [
    "### Without Comprehesion"
   ]
  },
  {
   "cell_type": "code",
   "execution_count": 73,
   "metadata": {},
   "outputs": [],
   "source": [
    "# function without comprehension or generator\n",
    "def computePi4(numTerms):\n",
    "    # initiate value of pi\n",
    "    pi = 0\n",
    "    # use a for loop based on number of terms\n",
    "    for i in range(numTerms):\n",
    "        # add or subtract from pi depending on the index\n",
    "        pi += (-1)**i / (2 * i + 1)\n",
    "    # return the value multiplied by 4\n",
    "    return pi * 4"
   ]
  },
  {
   "cell_type": "code",
   "execution_count": 74,
   "metadata": {},
   "outputs": [
    {
     "data": {
      "text/plain": [
       "3.140592653839794"
      ]
     },
     "execution_count": 74,
     "metadata": {},
     "output_type": "execute_result"
    }
   ],
   "source": [
    "computePi4(1000)"
   ]
  },
  {
   "attachments": {},
   "cell_type": "markdown",
   "metadata": {},
   "source": [
    "### List Comprehension"
   ]
  },
  {
   "cell_type": "code",
   "execution_count": 75,
   "metadata": {},
   "outputs": [],
   "source": [
    "# function with list comprehension\n",
    "def computePi4(numTerms):\n",
    "    # set the range we need based on numTerms\n",
    "    r = numTerms*2+1\n",
    "    # create a list of the values based on the range provided\n",
    "    myL = [1/x for x in range(1,r,2)]\n",
    "    # return the sum from the infinite series\n",
    "    return (sum(myL[0::2]) - sum(myL[1::2]))*4"
   ]
  },
  {
   "cell_type": "code",
   "execution_count": 76,
   "metadata": {},
   "outputs": [
    {
     "data": {
      "text/plain": [
       "3.1405926538397777"
      ]
     },
     "execution_count": 76,
     "metadata": {},
     "output_type": "execute_result"
    }
   ],
   "source": [
    "computePi4(1000)"
   ]
  },
  {
   "attachments": {},
   "cell_type": "markdown",
   "metadata": {},
   "source": [
    "### Generator Comprehesion"
   ]
  },
  {
   "cell_type": "code",
   "execution_count": 77,
   "metadata": {},
   "outputs": [],
   "source": [
    "# function with generator\n",
    "def computePi4(numTerms):\n",
    "    # for loop with desired number of terms\n",
    "    for i in range(numTerms):\n",
    "        # use yield to get the desired value\n",
    "        yield 4 * (-1)**i / (2 * i + 1)"
   ]
  },
  {
   "cell_type": "code",
   "execution_count": 78,
   "metadata": {},
   "outputs": [
    {
     "data": {
      "text/plain": [
       "3.140592653839794"
      ]
     },
     "execution_count": 78,
     "metadata": {},
     "output_type": "execute_result"
    }
   ],
   "source": [
    "sum(computePi4(1000))"
   ]
  }
 ],
 "metadata": {
  "kernelspec": {
   "display_name": "base",
   "language": "python",
   "name": "python3"
  },
  "language_info": {
   "codemirror_mode": {
    "name": "ipython",
    "version": 3
   },
   "file_extension": ".py",
   "mimetype": "text/x-python",
   "name": "python",
   "nbconvert_exporter": "python",
   "pygments_lexer": "ipython3",
   "version": "3.9.7"
  },
  "orig_nbformat": 4,
  "vscode": {
   "interpreter": {
    "hash": "f4f4ea8b675a369d310ce37c2764550f177482db6c954ac304c2a2ba8c1350c0"
   }
  }
 },
 "nbformat": 4,
 "nbformat_minor": 2
}
