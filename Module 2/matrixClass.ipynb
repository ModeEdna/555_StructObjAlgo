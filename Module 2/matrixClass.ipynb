{
 "cells": [
  {
   "attachments": {},
   "cell_type": "markdown",
   "metadata": {},
   "source": [
    "### 555 Discussion 2 (Feb. 12, 2023)\n",
    "**Create a Matrix Class**\n",
    "\n",
    "- Implement a Matrix class that allows for matrix addition and multiplication. Make reasonable and appropriate design decisions and justify them in comments or in the discussion board. (If addition and multiplication are undefined, then throw an exception.)\n",
    "    - You will implement operator overloading so that the '+' and '*' symbols can be used. \n",
    "- Implement a Vector class that inherits from the Matrix class. It will inheret addition and multiplication (inner product) but will also have a multiplication method for an outer product (choose an intuitive symbol). (If addition and multiplication are undefined due to size mismatch, then throw an exception.)"
   ]
  },
  {
   "cell_type": "code",
   "execution_count": 133,
   "metadata": {},
   "outputs": [],
   "source": [
    "class Matrix:\n",
    "    \"\"\"A matrix class that allows you to multiply and add matrices.\"\"\"\n",
    "    def __init__(self, rows, cols):\n",
    "        self.rows = rows # access to number of rows\n",
    "        self.cols = cols # access to number of columns\n",
    "        self._coords = [[0 for j in range(cols)] for i in range(rows)] # assign the coordinates\n",
    "\n",
    "    # gives us access to the index\n",
    "    def __getitem__(self, index): \n",
    "        return self._coords[index]\n",
    "\n",
    "    # allows us to set values to indices\n",
    "    def __setitem__(self, index, value):\n",
    "        self._coords[index] = value\n",
    "\n",
    "    # addition method\n",
    "    def __add__(self, other):\n",
    "        # check for proper addition\n",
    "        if self.rows != other.rows or self.cols != other.cols:\n",
    "            raise Exception(\"Cannot add matrices with different dimensions\")\n",
    "        # actual addition\n",
    "        result = Matrix(self.rows, self.cols)\n",
    "        for i in range(self.rows):\n",
    "            for j in range(self.cols):\n",
    "                result._coords[i][j] = self._coords[i][j] + other._coords[i][j]\n",
    "        # return result\n",
    "        return result._coords\n",
    "\n",
    "    # multiplication method\n",
    "    def __mul__(self, other):\n",
    "        # ensuring the matrices can be multiplied\n",
    "        if isinstance(other, Matrix):\n",
    "            if self.cols != other.rows:\n",
    "                raise Exception(\"Cannot multiply matrices with incompatible dimensions\")\n",
    "            # actual multiplication\n",
    "            result = Matrix(self.rows, other.cols)\n",
    "            for i in range(self.rows):\n",
    "                for j in range(other.cols):\n",
    "                    s = 0\n",
    "                    for k in range(self.cols):\n",
    "                        s += self._coords[i][k] * other._coords[k][j]\n",
    "                    result._coords[i][j] = s\n",
    "            # get result\n",
    "            return result._coords\n",
    "        # multiply matrices with different dimensions, that can still be multiplied\n",
    "        else:\n",
    "            result = Matrix(self.rows, self.cols)\n",
    "            for i in range(self.rows):\n",
    "                for j in range(self.cols):\n",
    "                    result._coords[i][j] = self._coords[i][j] * other\n",
    "            return result._coords\n"
   ]
  },
  {
   "attachments": {},
   "cell_type": "markdown",
   "metadata": {},
   "source": [
    "Testing the Matrix class"
   ]
  },
  {
   "cell_type": "code",
   "execution_count": 134,
   "metadata": {},
   "outputs": [
    {
     "name": "stdout",
     "output_type": "stream",
     "text": [
      "[[5, 0], [0, 5]]\n",
      "[[4, 0], [0, 6]]\n"
     ]
    }
   ],
   "source": [
    "# create matrices\n",
    "a = Matrix(2,2)\n",
    "b = Matrix(2,2)\n",
    "\n",
    "# populate matrices\n",
    "a[0][0] = 1\n",
    "a[1][1] = 3\n",
    "b[0][0] = 4\n",
    "b[1][1] = 2\n",
    "\n",
    "# add and subtract matrices\n",
    "print(a+b)\n",
    "print(b*a)"
   ]
  },
  {
   "attachments": {},
   "cell_type": "markdown",
   "metadata": {},
   "source": [
    "**Create the vector class**"
   ]
  },
  {
   "cell_type": "code",
   "execution_count": 154,
   "metadata": {},
   "outputs": [],
   "source": [
    "class Vector(Matrix):\n",
    "    # initialize object\n",
    "    def __init__(self, size):\n",
    "        super().__init__(size, 1)\n",
    "\n",
    "    # addition method, had to extend it due to the way I did addition with the matrices\n",
    "    def __add__(self, other):\n",
    "        # check for proper addition\n",
    "        if self.rows != other.rows or self.cols != other.cols:\n",
    "            raise Exception(\"Cannot add matrices with different dimensions\")\n",
    "        # actual addition\n",
    "        result = Matrix(self.rows, self.cols)\n",
    "        for i in range(self.rows):\n",
    "            for j in range(self.cols):\n",
    "                result._coords[i] = self._coords[i] + other._coords[i]\n",
    "        # return result\n",
    "        return result._coords\n",
    "\n",
    "    # had to extend it because the matrix used more than one dimension\n",
    "    def __mul__(self, other):\n",
    "        if isinstance(other, Vector):\n",
    "            # check for errors\n",
    "            if self.rows != other.rows:\n",
    "                raise Exception(\"Cannot perform inner product of vectors with different sizes\")\n",
    "            # create result variable\n",
    "            result = 0\n",
    "            # loop through values and add to result\n",
    "            for i in range(self.rows):\n",
    "                result += self._coords[i] * other._coords[i]\n",
    "            return result\n",
    "        else:\n",
    "            # similar to above with one difference\n",
    "            result = Vector(self.rows)\n",
    "            for i in range(self.rows):\n",
    "                result._coords[i] = self._coords[i] * other\n",
    "            return result\n",
    "\n",
    "    # create the outer product method\n",
    "    def __matmul__(self, other):\n",
    "        # ensure other is of vector instance\n",
    "        if isinstance(other, Vector):\n",
    "            # make the result a matrix\n",
    "            result = Matrix(self.rows, other.rows)\n",
    "            # iterate through matrix to get the outer product\n",
    "            for i in range(self.rows):\n",
    "                for j in range(other.rows):\n",
    "                    result._coords[i][j] = self._coords[i] * other._coords[j]\n",
    "            return result._coords\n",
    "        else:\n",
    "            # raise error if vectors can't be multiplied\n",
    "            raise Exception(\"Invalid outer product operation\")"
   ]
  },
  {
   "attachments": {},
   "cell_type": "markdown",
   "metadata": {},
   "source": [
    "Testing the Vector class"
   ]
  },
  {
   "cell_type": "code",
   "execution_count": 159,
   "metadata": {},
   "outputs": [
    {
     "name": "stdout",
     "output_type": "stream",
     "text": [
      "[4, 4]\n",
      "7\n",
      "[[3, 2], [6, 4]]\n"
     ]
    }
   ],
   "source": [
    "# create vectors\n",
    "v1 = Vector(2)\n",
    "v2 = Vector(2)\n",
    "\n",
    "# populate the vectors\n",
    "v1[0] = 1\n",
    "v1[1] = 2\n",
    "v2[0] = 3\n",
    "v2[1] = 2\n",
    "\n",
    "# test the methods\n",
    "print(v1+v2)\n",
    "print(v1*v2)\n",
    "print(v1@v2)"
   ]
  }
 ],
 "metadata": {
  "kernelspec": {
   "display_name": "ANLY501",
   "language": "python",
   "name": "python3"
  },
  "language_info": {
   "codemirror_mode": {
    "name": "ipython",
    "version": 3
   },
   "file_extension": ".py",
   "mimetype": "text/x-python",
   "name": "python",
   "nbconvert_exporter": "python",
   "pygments_lexer": "ipython3",
   "version": "3.10.4"
  },
  "orig_nbformat": 4,
  "vscode": {
   "interpreter": {
    "hash": "6c72976fb237423a2a1d3151ac569995244a4a767dd0452f9a8ae3f982e3763a"
   }
  }
 },
 "nbformat": 4,
 "nbformat_minor": 2
}
