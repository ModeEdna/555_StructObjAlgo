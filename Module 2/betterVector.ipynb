{
 "cells": [
  {
   "attachments": {},
   "cell_type": "markdown",
   "metadata": {},
   "source": [
    "# In-class exercise 3 (Jan. 30, 2023)\n",
    "\n",
    "### Inititate vector class"
   ]
  },
  {
   "cell_type": "code",
   "execution_count": 1,
   "metadata": {},
   "outputs": [
    {
     "name": "stdout",
     "output_type": "stream",
     "text": [
      "45\n",
      "<0, 46, 0, 0, 90>\n"
     ]
    }
   ],
   "source": [
    "import collections\n",
    "\n",
    "class Vector:\n",
    "  \"\"\"Represent a vector in a multidimensional space.\"\"\"\n",
    "\n",
    "  def __init__(self, d):\n",
    "    if isinstance(d, int):\n",
    "      self._coords = [0] * d\n",
    "    else:                                  \n",
    "      try:                                     # we test if param is iterable\n",
    "        self._coords = [val for val in d]\n",
    "      except TypeError:\n",
    "        raise TypeError('invalid parameter type')\n",
    "\n",
    "  def __len__(self):\n",
    "    \"\"\"Return the dimension of the vector.\"\"\"\n",
    "    return len(self._coords)\n",
    "\n",
    "  def __getitem__(self, j):\n",
    "    \"\"\"Return jth coordinate of vector.\"\"\"\n",
    "    return self._coords[j]\n",
    "\n",
    "  def __setitem__(self, j, val):\n",
    "    \"\"\"Set jth coordinate of vector to given value.\"\"\"\n",
    "    self._coords[j] = val\n",
    "\n",
    "  def __add__(self, other):\n",
    "    \"\"\"Return sum of two vectors.\"\"\"\n",
    "    if len(self) != len(other):          # relies on __len__ method\n",
    "      raise ValueError('dimensions must agree')\n",
    "    result = Vector(len(self))           # start with vector of zeros\n",
    "    for j in range(len(self)):\n",
    "      result[j] = self[j] + other[j]\n",
    "    return result\n",
    "\n",
    "  def __eq__(self, other):\n",
    "    \"\"\"Return True if vector has same coordinates as other.\"\"\"\n",
    "    return self._coords == other._coords\n",
    "\n",
    "  def __ne__(self, other):\n",
    "    \"\"\"Return True if vector differs from other.\"\"\"\n",
    "    return not self == other             # rely on existing __eq__ definition\n",
    "\n",
    "  def __str__(self):\n",
    "    \"\"\"Produce string representation of vector.\"\"\"\n",
    "    return '<' + str(self._coords)[1:-1] + '>'  # adapt list representation\n",
    "\n",
    "  def __neg__(self):\n",
    "    \"\"\"Return copy of vector with all coordinates negated.\"\"\"\n",
    "    result = Vector(len(self))           # start with vector of zeros\n",
    "    for j in range(len(self)):\n",
    "      result[j] = -self[j]\n",
    "    return result\n",
    "\n",
    "  def __lt__(self, other):\n",
    "    \"\"\"Compare vectors based on lexicographical order.\"\"\"\n",
    "    if len(self) != len(other):\n",
    "      raise ValueError('dimensions must agree')\n",
    "    return self._coords < other._coords\n",
    "\n",
    "  def __le__(self, other):\n",
    "    \"\"\"Compare vectors based on lexicographical order.\"\"\"\n",
    "    if len(self) != len(other):\n",
    "      raise ValueError('dimensions must agree')\n",
    "    return self._coords <= other._coords\n",
    "\n",
    "if __name__ == '__main__':\n",
    "  # the following demonstrates usage of a few methods\n",
    "  v = Vector(5)              # construct five-dimensional <0, 0, 0, 0, 0>\n",
    "  v[1] = 23                  # <0, 23, 0, 0, 0> (based on use of __setitem__)\n",
    "  v[-1] = 45                 # <0, 23, 0, 0, 45> (also via __setitem__)\n",
    "  print(v[4])                # print 45 (via __getitem__)\n",
    "  u = v + v                  # <0, 46, 0, 0, 90> (via __add__)\n",
    "  print(u)                   # print <0, 46, 0, 0, 90>\n",
    "  total = 0\n",
    "  for entry in v:            # implicit iteration via __len__ and __getitem__\n",
    "    total += entry"
   ]
  },
  {
   "attachments": {},
   "cell_type": "markdown",
   "metadata": {},
   "source": [
    "Consider the mathematical structure -- the vector. To maximize code reusability, you will implement the BetterVector Class as a subclass to the Vector Class. The Vector Class already provides for addition which BetterVector will inherit, but you will need to provide for vector subtraction and multiplication (inner product).  Use operator overloading. Implement the BetterVector class as noted above and test your newly created multiplication and subtraction operations in a \"main method\",  if __name__ == __main__ : "
   ]
  },
  {
   "cell_type": "code",
   "execution_count": 27,
   "metadata": {},
   "outputs": [],
   "source": [
    "class BetterVector(Vector):\n",
    "  \"\"\"Extend the vector class to include subtraction and multiplication.\"\"\"\n",
    "\n",
    "  def __sub__(self, other):\n",
    "    \"\"\"Return subtraction of two vectors\"\"\"\n",
    "    if len(self) != len(other):          # relies on __len__ method\n",
    "      #raise ValueError('dimensions must agree')\n",
    "      return print('Error: Lengths of vectors must be the same.')\n",
    "    result = Vector(len(self))           # start with vector of zeros\n",
    "    for j in range(len(self)):\n",
    "      result[j] = self[j] - other[j]\n",
    "    return result\n",
    "\n",
    "  def __mul__(self, other):\n",
    "    \"\"\"Return the inner product of two vectors\"\"\"\n",
    "    if len(self) != len(other):          # relies on __len__ method\n",
    "      #raise ValueError('dimensions must agree')\n",
    "      return print('Error: Lengths of vectors must be the same.')\n",
    "    result = Vector(len(self))           # start with vector of zeros\n",
    "    for j in range(len(self)):\n",
    "      result[j] = self[j] * other[j]\n",
    "    return sum(result)"
   ]
  },
  {
   "cell_type": "code",
   "execution_count": 28,
   "metadata": {},
   "outputs": [
    {
     "name": "stdout",
     "output_type": "stream",
     "text": [
      "TESTING SUBTRACTION\n",
      "<-4, -2, 0, 2, 4>\n",
      "Error: Lengths of vectors must be the same.\n",
      "\n",
      "\n",
      "TESTING MULTIPLICATION\n",
      "35\n",
      "Error: Lengths of vectors must be the same.\n"
     ]
    }
   ],
   "source": [
    "if __name__ == '__main__':\n",
    "    # inititate vector a and populate it\n",
    "    a = BetterVector(5)\n",
    "    a[0] = 1\n",
    "    a[1] = 2\n",
    "    a[2] = 3\n",
    "    a[3] = 4\n",
    "    a[4] = 5\n",
    "    # initiate vector b and populate it\n",
    "    b = BetterVector(5)\n",
    "    b[0] = 5\n",
    "    b[1] = 4\n",
    "    b[2] = 3\n",
    "    b[3] = 2\n",
    "    b[4] = 1\n",
    "    # initiate shorter vector\n",
    "    c = BetterVector(4)\n",
    "\n",
    "    # subtraction test\n",
    "    print('TESTING SUBTRACTION')\n",
    "    # should subtract the numbers from each other\n",
    "    print(a - b)\n",
    "    # test on different length vectors\n",
    "    a - c\n",
    "\n",
    "    # multiplication test\n",
    "    print('\\n')\n",
    "    print('TESTING MULTIPLICATION')\n",
    "    # should give back 35\n",
    "    print(a * b)\n",
    "    # test on different length vectors\n",
    "    a * c\n",
    "\n"
   ]
  }
 ],
 "metadata": {
  "kernelspec": {
   "display_name": "ANLY501",
   "language": "python",
   "name": "python3"
  },
  "language_info": {
   "codemirror_mode": {
    "name": "ipython",
    "version": 3
   },
   "file_extension": ".py",
   "mimetype": "text/x-python",
   "name": "python",
   "nbconvert_exporter": "python",
   "pygments_lexer": "ipython3",
   "version": "3.10.4 (main, Mar 31 2022, 03:38:35) [Clang 12.0.0 ]"
  },
  "orig_nbformat": 4,
  "vscode": {
   "interpreter": {
    "hash": "6c72976fb237423a2a1d3151ac569995244a4a767dd0452f9a8ae3f982e3763a"
   }
  }
 },
 "nbformat": 4,
 "nbformat_minor": 2
}
