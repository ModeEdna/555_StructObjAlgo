{
 "cells": [
  {
   "cell_type": "code",
   "execution_count": 1,
   "metadata": {},
   "outputs": [],
   "source": [
    "import random\n",
    "import statistics as st\n",
    "\n",
    "def findMedian(n):\n",
    "    values = [random.uniform(0, 100) for i in range(n)]\n",
    "    print(st.median(values))\n",
    "    left = 0\n",
    "    right = n - 1\n",
    "\n",
    "    while True:\n",
    "        if left == right:\n",
    "            return values[left]\n",
    "\n",
    "        pivot_index = random.randint(left, right)\n",
    "        pivot = values[pivot_index]\n",
    "\n",
    "        # Move pivot to the right\n",
    "        values[pivot_index], values[right] = values[right], values[pivot_index]\n",
    "\n",
    "        # Partition values around the pivot\n",
    "        store_index = left\n",
    "        for i in range(left, right):\n",
    "            if values[i] < pivot:\n",
    "                values[i], values[store_index] = values[store_index], values[i]\n",
    "                store_index += 1\n",
    "\n",
    "        # Move pivot to its final place\n",
    "        values[store_index], values[right] = values[right], values[store_index]\n",
    "\n",
    "        # Determine which partition the median is in\n",
    "        if store_index == n // 2:\n",
    "            return values[store_index]\n",
    "        elif store_index < n // 2:\n",
    "            left = store_index + 1\n",
    "        else:\n",
    "            right = store_index - 1\n"
   ]
  },
  {
   "attachments": {},
   "cell_type": "markdown",
   "metadata": {},
   "source": [
    "Step Count Function T(n):\n",
    "\n",
    "The function generates n random values: O(n)\n",
    "\n",
    "- It then enters a while loop that has a worst-case scenario of running log(n) times (when it always picks the median as the pivot): O(log n)\n",
    "- Within the loop, it generates a random index for the pivot: O(1)\n",
    "- It swaps the pivot with the rightmost element: O(1)\n",
    "- It then partitions the values around the pivot using a for loop: O(n)\n",
    "- It determines which partition the median is in: O(1)\n",
    "- Overall, the time complexity is O(n log n)\n",
    "\n",
    "Space Count Function S(n):\n",
    "\n",
    "- The function generates a list of n random values: O(n)\n",
    "- It uses a fixed amount of extra memory for variables such as left, right, pivot, pivot_index, store_index, and i: O(1)\n",
    "- The space complexity is O(n)\n",
    "- The worst-case time complexity of this algorithm is O(n log n) and the space complexity is O(n), which is efficient compared to sorting the list, which has a worst-case time complexity of O(n log n) and a space complexity of O(n). Therefore, this algorithm provides a better solution than sorting the list first and then returning the median."
   ]
  },
  {
   "cell_type": "code",
   "execution_count": 2,
   "metadata": {},
   "outputs": [
    {
     "name": "stdout",
     "output_type": "stream",
     "text": [
      "54.25119920409435\n"
     ]
    },
    {
     "data": {
      "text/plain": [
       "54.34434622958659"
      ]
     },
     "execution_count": 2,
     "metadata": {},
     "output_type": "execute_result"
    }
   ],
   "source": [
    "# compare real median with my median\n",
    "findMedian(100)"
   ]
  }
 ],
 "metadata": {
  "kernelspec": {
   "display_name": "anly503",
   "language": "python",
   "name": "anly503"
  },
  "language_info": {
   "codemirror_mode": {
    "name": "ipython",
    "version": 3
   },
   "file_extension": ".py",
   "mimetype": "text/x-python",
   "name": "python",
   "nbconvert_exporter": "python",
   "pygments_lexer": "ipython3",
   "version": "3.10.8"
  },
  "orig_nbformat": 4,
  "vscode": {
   "interpreter": {
    "hash": "aee8b7b246df8f9039afb4144a1f6fd8d2ca17a180786b69acc140d282b71a49"
   }
  }
 },
 "nbformat": 4,
 "nbformat_minor": 2
}
